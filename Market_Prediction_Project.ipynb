{
 "cells": [
  {
   "cell_type": "code",
   "execution_count": null,
   "id": "acb0c886",
   "metadata": {},
   "outputs": [],
   "source": [
    "import pandas as pd\n",
    "import numpy as np\n",
    "from sklearn.model_selection import train_test_split, GridSearchCV\n",
    "from sklearn.preprocessing import StandardScaler\n",
    "from sklearn.linear_model import LogisticRegression\n",
    "from sklearn import svm\n",
    "from sklearn.neighbors import KNeighborsClassifier\n",
    "from sklearn.naive_bayes import GaussianNB\n",
    "from sklearn.tree import DecisionTreeClassifier\n",
    "from sklearn.metrics import confusion_matrix, accuracy_score, classification_report"
   ]
  },
  {
   "cell_type": "code",
   "execution_count": null,
   "id": "99997ea7",
   "metadata": {},
   "outputs": [],
   "source": [
    "data = pd.read_excel('JPN Data.xlsx')"
   ]
  },
  {
   "cell_type": "code",
   "execution_count": 5,
   "id": "f3fd0dd6",
   "metadata": {},
   "outputs": [
    {
     "data": {
      "text/html": [
       "<div>\n",
       "<style scoped>\n",
       "    .dataframe tbody tr th:only-of-type {\n",
       "        vertical-align: middle;\n",
       "    }\n",
       "\n",
       "    .dataframe tbody tr th {\n",
       "        vertical-align: top;\n",
       "    }\n",
       "\n",
       "    .dataframe thead th {\n",
       "        text-align: right;\n",
       "    }\n",
       "</style>\n",
       "<table border=\"1\" class=\"dataframe\">\n",
       "  <thead>\n",
       "    <tr style=\"text-align: right;\">\n",
       "      <th></th>\n",
       "      <th>ID</th>\n",
       "      <th>CURR_AGE</th>\n",
       "      <th>GENDER</th>\n",
       "      <th>ANN_INCOME</th>\n",
       "      <th>AGE_CAR</th>\n",
       "      <th>PURCHASE</th>\n",
       "    </tr>\n",
       "  </thead>\n",
       "  <tbody>\n",
       "    <tr>\n",
       "      <th>0</th>\n",
       "      <td>00001Q15YJ</td>\n",
       "      <td>50</td>\n",
       "      <td>M</td>\n",
       "      <td>445344.000000</td>\n",
       "      <td>439</td>\n",
       "      <td>0</td>\n",
       "    </tr>\n",
       "    <tr>\n",
       "      <th>1</th>\n",
       "      <td>00003I71CQ</td>\n",
       "      <td>35</td>\n",
       "      <td>M</td>\n",
       "      <td>107634.000000</td>\n",
       "      <td>283</td>\n",
       "      <td>0</td>\n",
       "    </tr>\n",
       "    <tr>\n",
       "      <th>2</th>\n",
       "      <td>00003N47FS</td>\n",
       "      <td>59</td>\n",
       "      <td>F</td>\n",
       "      <td>502786.666667</td>\n",
       "      <td>390</td>\n",
       "      <td>1</td>\n",
       "    </tr>\n",
       "    <tr>\n",
       "      <th>3</th>\n",
       "      <td>00005H41DE</td>\n",
       "      <td>43</td>\n",
       "      <td>M</td>\n",
       "      <td>585664.000000</td>\n",
       "      <td>475</td>\n",
       "      <td>0</td>\n",
       "    </tr>\n",
       "    <tr>\n",
       "      <th>4</th>\n",
       "      <td>00007E17UM</td>\n",
       "      <td>39</td>\n",
       "      <td>F</td>\n",
       "      <td>705722.666667</td>\n",
       "      <td>497</td>\n",
       "      <td>1</td>\n",
       "    </tr>\n",
       "    <tr>\n",
       "      <th>...</th>\n",
       "      <td>...</td>\n",
       "      <td>...</td>\n",
       "      <td>...</td>\n",
       "      <td>...</td>\n",
       "      <td>...</td>\n",
       "      <td>...</td>\n",
       "    </tr>\n",
       "    <tr>\n",
       "      <th>39995</th>\n",
       "      <td>99988B18OG</td>\n",
       "      <td>49</td>\n",
       "      <td>M</td>\n",
       "      <td>478511.000000</td>\n",
       "      <td>464</td>\n",
       "      <td>1</td>\n",
       "    </tr>\n",
       "    <tr>\n",
       "      <th>39996</th>\n",
       "      <td>99990Q44VP</td>\n",
       "      <td>28</td>\n",
       "      <td>M</td>\n",
       "      <td>271419.000000</td>\n",
       "      <td>61</td>\n",
       "      <td>0</td>\n",
       "    </tr>\n",
       "    <tr>\n",
       "      <th>39997</th>\n",
       "      <td>99997Q09VJ</td>\n",
       "      <td>41</td>\n",
       "      <td>F</td>\n",
       "      <td>590704.000000</td>\n",
       "      <td>379</td>\n",
       "      <td>1</td>\n",
       "    </tr>\n",
       "    <tr>\n",
       "      <th>39998</th>\n",
       "      <td>99998J59EE</td>\n",
       "      <td>50</td>\n",
       "      <td>M</td>\n",
       "      <td>363160.000000</td>\n",
       "      <td>302</td>\n",
       "      <td>1</td>\n",
       "    </tr>\n",
       "    <tr>\n",
       "      <th>39999</th>\n",
       "      <td>99999V37MQ</td>\n",
       "      <td>46</td>\n",
       "      <td>F</td>\n",
       "      <td>710650.666667</td>\n",
       "      <td>336</td>\n",
       "      <td>1</td>\n",
       "    </tr>\n",
       "  </tbody>\n",
       "</table>\n",
       "<p>40000 rows × 6 columns</p>\n",
       "</div>"
      ],
      "text/plain": [
       "               ID  CURR_AGE GENDER     ANN_INCOME  AGE_CAR  PURCHASE\n",
       "0      00001Q15YJ        50      M  445344.000000      439         0\n",
       "1      00003I71CQ        35      M  107634.000000      283         0\n",
       "2      00003N47FS        59      F  502786.666667      390         1\n",
       "3      00005H41DE        43      M  585664.000000      475         0\n",
       "4      00007E17UM        39      F  705722.666667      497         1\n",
       "...           ...       ...    ...            ...      ...       ...\n",
       "39995  99988B18OG        49      M  478511.000000      464         1\n",
       "39996  99990Q44VP        28      M  271419.000000       61         0\n",
       "39997  99997Q09VJ        41      F  590704.000000      379         1\n",
       "39998  99998J59EE        50      M  363160.000000      302         1\n",
       "39999  99999V37MQ        46      F  710650.666667      336         1\n",
       "\n",
       "[40000 rows x 6 columns]"
      ]
     },
     "execution_count": 5,
     "metadata": {},
     "output_type": "execute_result"
    }
   ],
   "source": [
    "data"
   ]
  },
  {
   "cell_type": "code",
   "execution_count": 7,
   "id": "b267e5f5",
   "metadata": {},
   "outputs": [],
   "source": [
    "data['GENDER'] = data['GENDER'].map({'F':0, 'M':1})"
   ]
  },
  {
   "cell_type": "code",
   "execution_count": 15,
   "id": "22aef160",
   "metadata": {},
   "outputs": [],
   "source": [
    "x = data.iloc[:,1:-1].values\n",
    "y = data.iloc[:,-1].values"
   ]
  },
  {
   "cell_type": "code",
   "execution_count": 17,
   "id": "ba5c7dd1",
   "metadata": {},
   "outputs": [],
   "source": [
    "# making of training and test dataset\n",
    "x_train, x_test, y_train, y_test = train_test_split(x, y, test_size = 0.25, random_state = 0)"
   ]
  },
  {
   "cell_type": "code",
   "execution_count": 18,
   "id": "f60393b0",
   "metadata": {},
   "outputs": [],
   "source": [
    "sc = StandardScaler()\n",
    "x_train = sc.fit_transform(x_train)\n",
    "x_test = sc.transform(x_test)"
   ]
  },
  {
   "cell_type": "code",
   "execution_count": 19,
   "id": "7558df6f",
   "metadata": {},
   "outputs": [],
   "source": [
    "models = {\n",
    "    'Logistic Regression': LogisticRegression(random_state=0),\n",
    "    'SVM': svm.SVC(kernel='linear', random_state=0),\n",
    "    'KNN': KNeighborsClassifier(n_neighbors=5, metric='minkowski', p=2),\n",
    "    'Naive Bayes': GaussianNB(),\n",
    "    'Decision Tree': DecisionTreeClassifier(criterion='entropy', random_state=0)\n",
    "}"
   ]
  },
  {
   "cell_type": "code",
   "execution_count": 22,
   "id": "48bf9bae",
   "metadata": {},
   "outputs": [],
   "source": [
    "param_grid = {\n",
    "    'n_neighbors': [3, 5, 7, 9, 11],\n",
    "    'metric': ['euclidean', 'manhattan', 'minkowski'],\n",
    "    'p': [1, 2]\n",
    "}"
   ]
  },
  {
   "cell_type": "code",
   "execution_count": 25,
   "id": "f5bcff79",
   "metadata": {},
   "outputs": [
    {
     "name": "stdout",
     "output_type": "stream",
     "text": [
      "Fitting 5 folds for each of 30 candidates, totalling 150 fits\n"
     ]
    },
    {
     "data": {
      "text/html": [
       "<style>#sk-container-id-1 {color: black;}#sk-container-id-1 pre{padding: 0;}#sk-container-id-1 div.sk-toggleable {background-color: white;}#sk-container-id-1 label.sk-toggleable__label {cursor: pointer;display: block;width: 100%;margin-bottom: 0;padding: 0.3em;box-sizing: border-box;text-align: center;}#sk-container-id-1 label.sk-toggleable__label-arrow:before {content: \"▸\";float: left;margin-right: 0.25em;color: #696969;}#sk-container-id-1 label.sk-toggleable__label-arrow:hover:before {color: black;}#sk-container-id-1 div.sk-estimator:hover label.sk-toggleable__label-arrow:before {color: black;}#sk-container-id-1 div.sk-toggleable__content {max-height: 0;max-width: 0;overflow: hidden;text-align: left;background-color: #f0f8ff;}#sk-container-id-1 div.sk-toggleable__content pre {margin: 0.2em;color: black;border-radius: 0.25em;background-color: #f0f8ff;}#sk-container-id-1 input.sk-toggleable__control:checked~div.sk-toggleable__content {max-height: 200px;max-width: 100%;overflow: auto;}#sk-container-id-1 input.sk-toggleable__control:checked~label.sk-toggleable__label-arrow:before {content: \"▾\";}#sk-container-id-1 div.sk-estimator input.sk-toggleable__control:checked~label.sk-toggleable__label {background-color: #d4ebff;}#sk-container-id-1 div.sk-label input.sk-toggleable__control:checked~label.sk-toggleable__label {background-color: #d4ebff;}#sk-container-id-1 input.sk-hidden--visually {border: 0;clip: rect(1px 1px 1px 1px);clip: rect(1px, 1px, 1px, 1px);height: 1px;margin: -1px;overflow: hidden;padding: 0;position: absolute;width: 1px;}#sk-container-id-1 div.sk-estimator {font-family: monospace;background-color: #f0f8ff;border: 1px dotted black;border-radius: 0.25em;box-sizing: border-box;margin-bottom: 0.5em;}#sk-container-id-1 div.sk-estimator:hover {background-color: #d4ebff;}#sk-container-id-1 div.sk-parallel-item::after {content: \"\";width: 100%;border-bottom: 1px solid gray;flex-grow: 1;}#sk-container-id-1 div.sk-label:hover label.sk-toggleable__label {background-color: #d4ebff;}#sk-container-id-1 div.sk-serial::before {content: \"\";position: absolute;border-left: 1px solid gray;box-sizing: border-box;top: 0;bottom: 0;left: 50%;z-index: 0;}#sk-container-id-1 div.sk-serial {display: flex;flex-direction: column;align-items: center;background-color: white;padding-right: 0.2em;padding-left: 0.2em;position: relative;}#sk-container-id-1 div.sk-item {position: relative;z-index: 1;}#sk-container-id-1 div.sk-parallel {display: flex;align-items: stretch;justify-content: center;background-color: white;position: relative;}#sk-container-id-1 div.sk-item::before, #sk-container-id-1 div.sk-parallel-item::before {content: \"\";position: absolute;border-left: 1px solid gray;box-sizing: border-box;top: 0;bottom: 0;left: 50%;z-index: -1;}#sk-container-id-1 div.sk-parallel-item {display: flex;flex-direction: column;z-index: 1;position: relative;background-color: white;}#sk-container-id-1 div.sk-parallel-item:first-child::after {align-self: flex-end;width: 50%;}#sk-container-id-1 div.sk-parallel-item:last-child::after {align-self: flex-start;width: 50%;}#sk-container-id-1 div.sk-parallel-item:only-child::after {width: 0;}#sk-container-id-1 div.sk-dashed-wrapped {border: 1px dashed gray;margin: 0 0.4em 0.5em 0.4em;box-sizing: border-box;padding-bottom: 0.4em;background-color: white;}#sk-container-id-1 div.sk-label label {font-family: monospace;font-weight: bold;display: inline-block;line-height: 1.2em;}#sk-container-id-1 div.sk-label-container {text-align: center;}#sk-container-id-1 div.sk-container {/* jupyter's `normalize.less` sets `[hidden] { display: none; }` but bootstrap.min.css set `[hidden] { display: none !important; }` so we also need the `!important` here to be able to override the default hidden behavior on the sphinx rendered scikit-learn.org. See: https://github.com/scikit-learn/scikit-learn/issues/21755 */display: inline-block !important;position: relative;}#sk-container-id-1 div.sk-text-repr-fallback {display: none;}</style><div id=\"sk-container-id-1\" class=\"sk-top-container\"><div class=\"sk-text-repr-fallback\"><pre>GridSearchCV(cv=5, estimator=KNeighborsClassifier(), n_jobs=-1,\n",
       "             param_grid={&#x27;metric&#x27;: [&#x27;euclidean&#x27;, &#x27;manhattan&#x27;, &#x27;minkowski&#x27;],\n",
       "                         &#x27;n_neighbors&#x27;: [3, 5, 7, 9, 11], &#x27;p&#x27;: [1, 2]},\n",
       "             verbose=1)</pre><b>In a Jupyter environment, please rerun this cell to show the HTML representation or trust the notebook. <br />On GitHub, the HTML representation is unable to render, please try loading this page with nbviewer.org.</b></div><div class=\"sk-container\" hidden><div class=\"sk-item sk-dashed-wrapped\"><div class=\"sk-label-container\"><div class=\"sk-label sk-toggleable\"><input class=\"sk-toggleable__control sk-hidden--visually\" id=\"sk-estimator-id-1\" type=\"checkbox\" ><label for=\"sk-estimator-id-1\" class=\"sk-toggleable__label sk-toggleable__label-arrow\">GridSearchCV</label><div class=\"sk-toggleable__content\"><pre>GridSearchCV(cv=5, estimator=KNeighborsClassifier(), n_jobs=-1,\n",
       "             param_grid={&#x27;metric&#x27;: [&#x27;euclidean&#x27;, &#x27;manhattan&#x27;, &#x27;minkowski&#x27;],\n",
       "                         &#x27;n_neighbors&#x27;: [3, 5, 7, 9, 11], &#x27;p&#x27;: [1, 2]},\n",
       "             verbose=1)</pre></div></div></div><div class=\"sk-parallel\"><div class=\"sk-parallel-item\"><div class=\"sk-item\"><div class=\"sk-label-container\"><div class=\"sk-label sk-toggleable\"><input class=\"sk-toggleable__control sk-hidden--visually\" id=\"sk-estimator-id-2\" type=\"checkbox\" ><label for=\"sk-estimator-id-2\" class=\"sk-toggleable__label sk-toggleable__label-arrow\">estimator: KNeighborsClassifier</label><div class=\"sk-toggleable__content\"><pre>KNeighborsClassifier()</pre></div></div></div><div class=\"sk-serial\"><div class=\"sk-item\"><div class=\"sk-estimator sk-toggleable\"><input class=\"sk-toggleable__control sk-hidden--visually\" id=\"sk-estimator-id-3\" type=\"checkbox\" ><label for=\"sk-estimator-id-3\" class=\"sk-toggleable__label sk-toggleable__label-arrow\">KNeighborsClassifier</label><div class=\"sk-toggleable__content\"><pre>KNeighborsClassifier()</pre></div></div></div></div></div></div></div></div></div></div>"
      ],
      "text/plain": [
       "GridSearchCV(cv=5, estimator=KNeighborsClassifier(), n_jobs=-1,\n",
       "             param_grid={'metric': ['euclidean', 'manhattan', 'minkowski'],\n",
       "                         'n_neighbors': [3, 5, 7, 9, 11], 'p': [1, 2]},\n",
       "             verbose=1)"
      ]
     },
     "execution_count": 25,
     "metadata": {},
     "output_type": "execute_result"
    }
   ],
   "source": [
    "grid_search = GridSearchCV(estimator=models['KNN'], param_grid=param_grid, cv=5, n_jobs=-1, verbose=1)\n",
    "grid_search.fit(x_train, y_train)"
   ]
  },
  {
   "cell_type": "code",
   "execution_count": 26,
   "id": "7c7d7706",
   "metadata": {},
   "outputs": [
    {
     "name": "stdout",
     "output_type": "stream",
     "text": [
      "Best KNN parameters: {'metric': 'euclidean', 'n_neighbors': 11, 'p': 1}\n"
     ]
    }
   ],
   "source": [
    "best_knn = grid_search.best_estimator_\n",
    "print(f\"Best KNN parameters: {grid_search.best_params_}\")"
   ]
  },
  {
   "cell_type": "code",
   "execution_count": 27,
   "id": "ea5a8e18",
   "metadata": {},
   "outputs": [],
   "source": [
    "models['KNN'] = best_knn"
   ]
  },
  {
   "cell_type": "code",
   "execution_count": 28,
   "id": "d090d593",
   "metadata": {},
   "outputs": [
    {
     "name": "stdout",
     "output_type": "stream",
     "text": [
      "Logistic Regression\n",
      "[[2266 2002]\n",
      " [1243 4489]]\n",
      "0.6755\n",
      "              precision    recall  f1-score   support\n",
      "\n",
      "           0       0.65      0.53      0.58      4268\n",
      "           1       0.69      0.78      0.73      5732\n",
      "\n",
      "    accuracy                           0.68     10000\n",
      "   macro avg       0.67      0.66      0.66     10000\n",
      "weighted avg       0.67      0.68      0.67     10000\n",
      "\n",
      "*************************\n",
      "SVM\n",
      "[[2176 2092]\n",
      " [1209 4523]]\n",
      "0.6699\n",
      "              precision    recall  f1-score   support\n",
      "\n",
      "           0       0.64      0.51      0.57      4268\n",
      "           1       0.68      0.79      0.73      5732\n",
      "\n",
      "    accuracy                           0.67     10000\n",
      "   macro avg       0.66      0.65      0.65     10000\n",
      "weighted avg       0.67      0.67      0.66     10000\n",
      "\n",
      "*************************\n",
      "KNN\n",
      "[[2496 1772]\n",
      " [1403 4329]]\n",
      "0.6825\n",
      "              precision    recall  f1-score   support\n",
      "\n",
      "           0       0.64      0.58      0.61      4268\n",
      "           1       0.71      0.76      0.73      5732\n",
      "\n",
      "    accuracy                           0.68     10000\n",
      "   macro avg       0.67      0.67      0.67     10000\n",
      "weighted avg       0.68      0.68      0.68     10000\n",
      "\n",
      "*************************\n",
      "Naive Bayes\n",
      "[[2762 1506]\n",
      " [1793 3939]]\n",
      "0.6701\n",
      "              precision    recall  f1-score   support\n",
      "\n",
      "           0       0.61      0.65      0.63      4268\n",
      "           1       0.72      0.69      0.70      5732\n",
      "\n",
      "    accuracy                           0.67     10000\n",
      "   macro avg       0.66      0.67      0.67     10000\n",
      "weighted avg       0.67      0.67      0.67     10000\n",
      "\n",
      "*************************\n",
      "Decision Tree\n",
      "[[2463 1805]\n",
      " [1796 3936]]\n",
      "0.6399\n",
      "              precision    recall  f1-score   support\n",
      "\n",
      "           0       0.58      0.58      0.58      4268\n",
      "           1       0.69      0.69      0.69      5732\n",
      "\n",
      "    accuracy                           0.64     10000\n",
      "   macro avg       0.63      0.63      0.63     10000\n",
      "weighted avg       0.64      0.64      0.64     10000\n",
      "\n",
      "*************************\n"
     ]
    }
   ],
   "source": [
    "for name, model in models.items():\n",
    "    model.fit(x_train, y_train)  \n",
    "    y_pred = model.predict(x_test)\n",
    "    print(name)\n",
    "    print(confusion_matrix(y_test, y_pred))     \n",
    "    print(accuracy_score(y_test, y_pred))  \n",
    "    print(classification_report(y_test, y_pred)) \n",
    "    print(\"*************************\")"
   ]
  },
  {
   "cell_type": "code",
   "execution_count": 29,
   "id": "1772840b",
   "metadata": {},
   "outputs": [
    {
     "data": {
      "text/html": [
       "<div>\n",
       "<style scoped>\n",
       "    .dataframe tbody tr th:only-of-type {\n",
       "        vertical-align: middle;\n",
       "    }\n",
       "\n",
       "    .dataframe tbody tr th {\n",
       "        vertical-align: top;\n",
       "    }\n",
       "\n",
       "    .dataframe thead th {\n",
       "        text-align: right;\n",
       "    }\n",
       "</style>\n",
       "<table border=\"1\" class=\"dataframe\">\n",
       "  <thead>\n",
       "    <tr style=\"text-align: right;\">\n",
       "      <th></th>\n",
       "      <th>ID</th>\n",
       "      <th>CURR_AGE</th>\n",
       "      <th>GENDER</th>\n",
       "      <th>ANN_INCOME</th>\n",
       "      <th>DT_MAINT</th>\n",
       "      <th>DAYS</th>\n",
       "      <th>AGE_CAR</th>\n",
       "    </tr>\n",
       "  </thead>\n",
       "  <tbody>\n",
       "    <tr>\n",
       "      <th>0</th>\n",
       "      <td>20710B05XL</td>\n",
       "      <td>54</td>\n",
       "      <td>M</td>\n",
       "      <td>1425390</td>\n",
       "      <td>2018-04-20</td>\n",
       "      <td>2019-07-01</td>\n",
       "      <td>437</td>\n",
       "    </tr>\n",
       "    <tr>\n",
       "      <th>1</th>\n",
       "      <td>89602T51HX</td>\n",
       "      <td>47</td>\n",
       "      <td>M</td>\n",
       "      <td>1678954</td>\n",
       "      <td>2018-06-08</td>\n",
       "      <td>2019-07-01</td>\n",
       "      <td>388</td>\n",
       "    </tr>\n",
       "    <tr>\n",
       "      <th>2</th>\n",
       "      <td>70190Z52IP</td>\n",
       "      <td>60</td>\n",
       "      <td>M</td>\n",
       "      <td>931624</td>\n",
       "      <td>2017-07-31</td>\n",
       "      <td>2019-07-01</td>\n",
       "      <td>700</td>\n",
       "    </tr>\n",
       "    <tr>\n",
       "      <th>3</th>\n",
       "      <td>25623V15MU</td>\n",
       "      <td>55</td>\n",
       "      <td>F</td>\n",
       "      <td>1106320</td>\n",
       "      <td>2017-07-31</td>\n",
       "      <td>2019-07-01</td>\n",
       "      <td>700</td>\n",
       "    </tr>\n",
       "    <tr>\n",
       "      <th>4</th>\n",
       "      <td>36230I68CE</td>\n",
       "      <td>32</td>\n",
       "      <td>F</td>\n",
       "      <td>748465</td>\n",
       "      <td>2019-01-27</td>\n",
       "      <td>2019-07-01</td>\n",
       "      <td>155</td>\n",
       "    </tr>\n",
       "    <tr>\n",
       "      <th>...</th>\n",
       "      <td>...</td>\n",
       "      <td>...</td>\n",
       "      <td>...</td>\n",
       "      <td>...</td>\n",
       "      <td>...</td>\n",
       "      <td>...</td>\n",
       "      <td>...</td>\n",
       "    </tr>\n",
       "    <tr>\n",
       "      <th>69995</th>\n",
       "      <td>35280V26PS</td>\n",
       "      <td>49</td>\n",
       "      <td>F</td>\n",
       "      <td>861770</td>\n",
       "      <td>2018-04-08</td>\n",
       "      <td>2019-07-01</td>\n",
       "      <td>449</td>\n",
       "    </tr>\n",
       "    <tr>\n",
       "      <th>69996</th>\n",
       "      <td>79863N01VR</td>\n",
       "      <td>59</td>\n",
       "      <td>M</td>\n",
       "      <td>888976</td>\n",
       "      <td>2018-05-17</td>\n",
       "      <td>2019-07-01</td>\n",
       "      <td>410</td>\n",
       "    </tr>\n",
       "    <tr>\n",
       "      <th>69997</th>\n",
       "      <td>94236O99QE</td>\n",
       "      <td>33</td>\n",
       "      <td>M</td>\n",
       "      <td>699676</td>\n",
       "      <td>2019-04-21</td>\n",
       "      <td>2019-07-01</td>\n",
       "      <td>71</td>\n",
       "    </tr>\n",
       "    <tr>\n",
       "      <th>69998</th>\n",
       "      <td>23696V12DP</td>\n",
       "      <td>41</td>\n",
       "      <td>M</td>\n",
       "      <td>1881922</td>\n",
       "      <td>2018-07-14</td>\n",
       "      <td>2019-07-01</td>\n",
       "      <td>352</td>\n",
       "    </tr>\n",
       "    <tr>\n",
       "      <th>69999</th>\n",
       "      <td>36285R14DU</td>\n",
       "      <td>53</td>\n",
       "      <td>M</td>\n",
       "      <td>1897605</td>\n",
       "      <td>2018-05-13</td>\n",
       "      <td>2019-07-01</td>\n",
       "      <td>414</td>\n",
       "    </tr>\n",
       "  </tbody>\n",
       "</table>\n",
       "<p>70000 rows × 7 columns</p>\n",
       "</div>"
      ],
      "text/plain": [
       "               ID  CURR_AGE GENDER  ANN_INCOME   DT_MAINT       DAYS  AGE_CAR\n",
       "0      20710B05XL        54      M     1425390 2018-04-20 2019-07-01      437\n",
       "1      89602T51HX        47      M     1678954 2018-06-08 2019-07-01      388\n",
       "2      70190Z52IP        60      M      931624 2017-07-31 2019-07-01      700\n",
       "3      25623V15MU        55      F     1106320 2017-07-31 2019-07-01      700\n",
       "4      36230I68CE        32      F      748465 2019-01-27 2019-07-01      155\n",
       "...           ...       ...    ...         ...        ...        ...      ...\n",
       "69995  35280V26PS        49      F      861770 2018-04-08 2019-07-01      449\n",
       "69996  79863N01VR        59      M      888976 2018-05-17 2019-07-01      410\n",
       "69997  94236O99QE        33      M      699676 2019-04-21 2019-07-01       71\n",
       "69998  23696V12DP        41      M     1881922 2018-07-14 2019-07-01      352\n",
       "69999  36285R14DU        53      M     1897605 2018-05-13 2019-07-01      414\n",
       "\n",
       "[70000 rows x 7 columns]"
      ]
     },
     "execution_count": 29,
     "metadata": {},
     "output_type": "execute_result"
    }
   ],
   "source": [
    "data_2  = pd.read_excel('INDIAN_DATASET.xlsx')\n",
    "data_2"
   ]
  },
  {
   "cell_type": "code",
   "execution_count": 30,
   "id": "cb48ba63",
   "metadata": {},
   "outputs": [],
   "source": [
    "data_2['GENDER'] = data_2['GENDER'].map({'M': 0, 'F': 1})"
   ]
  },
  {
   "cell_type": "code",
   "execution_count": 31,
   "id": "ebda6547",
   "metadata": {},
   "outputs": [
    {
     "data": {
      "text/plain": [
       "Index(['ID', 'CURR_AGE', 'GENDER', 'ANN_INCOME', 'DT_MAINT', 'DAYS',\n",
       "       'AGE_CAR'],\n",
       "      dtype='object')"
      ]
     },
     "execution_count": 31,
     "metadata": {},
     "output_type": "execute_result"
    }
   ],
   "source": [
    "data_2.columns"
   ]
  },
  {
   "cell_type": "code",
   "execution_count": 33,
   "id": "dd4be19e",
   "metadata": {},
   "outputs": [],
   "source": [
    "z = data_2.iloc[:,[1,2,3,6]].values"
   ]
  },
  {
   "cell_type": "code",
   "execution_count": 34,
   "id": "554a9dca",
   "metadata": {},
   "outputs": [],
   "source": [
    "z = sc.transform(z)"
   ]
  },
  {
   "cell_type": "code",
   "execution_count": 35,
   "id": "c1b24408",
   "metadata": {},
   "outputs": [
    {
     "data": {
      "text/plain": [
       "array([1, 1, 1, ..., 0, 1, 1], dtype=int64)"
      ]
     },
     "execution_count": 35,
     "metadata": {},
     "output_type": "execute_result"
    }
   ],
   "source": [
    "# applying KNN classifier on z (model with highest accuracy)\n",
    "y_pred_z = models['KNN'].predict(z)\n",
    "y_pred_z"
   ]
  },
  {
   "cell_type": "code",
   "execution_count": 38,
   "id": "393c1300",
   "metadata": {},
   "outputs": [],
   "source": [
    " # Assuming 1 indicates purchase\n",
    "count = sum(y_pred_z == 1)"
   ]
  },
  {
   "cell_type": "code",
   "execution_count": 39,
   "id": "ace87cfb",
   "metadata": {},
   "outputs": [
    {
     "name": "stdout",
     "output_type": "stream",
     "text": [
      "Predicted number of buyers in Indain Market : 56015\n",
      "Market entry is favorable.\n"
     ]
    }
   ],
   "source": [
    "print(f\"Predicted number of buyers in Indain Market : {count}\")\n",
    "if count >= 10000:\n",
    "    print(\"Market entry is favorable.\")\n",
    "else:\n",
    "    print(\"Market entry is not favorable.\")"
   ]
  },
  {
   "cell_type": "code",
   "execution_count": null,
   "id": "4186d6a8",
   "metadata": {},
   "outputs": [],
   "source": []
  }
 ],
 "metadata": {
  "kernelspec": {
   "display_name": "Python 3 (ipykernel)",
   "language": "python",
   "name": "python3"
  },
  "language_info": {
   "codemirror_mode": {
    "name": "ipython",
    "version": 3
   },
   "file_extension": ".py",
   "mimetype": "text/x-python",
   "name": "python",
   "nbconvert_exporter": "python",
   "pygments_lexer": "ipython3",
   "version": "3.11.6"
  }
 },
 "nbformat": 4,
 "nbformat_minor": 5
}
